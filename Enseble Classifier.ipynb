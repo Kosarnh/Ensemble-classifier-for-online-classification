{
 "cells": [
  {
   "cell_type": "code",
   "execution_count": 1,
   "metadata": {},
   "outputs": [],
   "source": [
    "# generally required libraries\n",
    "from skmultiflow.data import SEAGenerator\n",
    "import pandas as pd\n",
    "import numpy as np"
   ]
  },
  {
   "cell_type": "markdown",
   "metadata": {},
   "source": [
    "## Generating data"
   ]
  },
  {
   "cell_type": "markdown",
   "metadata": {},
   "source": [
    "### SEA without noise"
   ]
  },
  {
   "cell_type": "code",
   "execution_count": 2,
   "metadata": {},
   "outputs": [
    {
     "name": "stdout",
     "output_type": "stream",
     "text": [
      "(10000, 3) (10000,)\n"
     ]
    }
   ],
   "source": [
    "generator = SEAGenerator(random_state=100)\n",
    "X, y = generator.next_sample(10000)\n",
    "print(X.shape, y.shape) # this shows that X is a 10000 by 3 matrix and y a one dimensional array"
   ]
  },
  {
   "cell_type": "code",
   "execution_count": 3,
   "metadata": {},
   "outputs": [
    {
     "data": {
      "text/html": [
       "<div>\n",
       "<style scoped>\n",
       "    .dataframe tbody tr th:only-of-type {\n",
       "        vertical-align: middle;\n",
       "    }\n",
       "\n",
       "    .dataframe tbody tr th {\n",
       "        vertical-align: top;\n",
       "    }\n",
       "\n",
       "    .dataframe thead th {\n",
       "        text-align: right;\n",
       "    }\n",
       "</style>\n",
       "<table border=\"1\" class=\"dataframe\">\n",
       "  <thead>\n",
       "    <tr style=\"text-align: right;\">\n",
       "      <th></th>\n",
       "      <th>0</th>\n",
       "      <th>1</th>\n",
       "      <th>2</th>\n",
       "      <th>3</th>\n",
       "    </tr>\n",
       "  </thead>\n",
       "  <tbody>\n",
       "    <tr>\n",
       "      <th>0</th>\n",
       "      <td>5.434049</td>\n",
       "      <td>2.783694</td>\n",
       "      <td>4.245176</td>\n",
       "      <td>1</td>\n",
       "    </tr>\n",
       "    <tr>\n",
       "      <th>1</th>\n",
       "      <td>0.047189</td>\n",
       "      <td>1.215691</td>\n",
       "      <td>6.707491</td>\n",
       "      <td>0</td>\n",
       "    </tr>\n",
       "    <tr>\n",
       "      <th>2</th>\n",
       "      <td>1.367066</td>\n",
       "      <td>5.750933</td>\n",
       "      <td>8.913220</td>\n",
       "      <td>0</td>\n",
       "    </tr>\n",
       "    <tr>\n",
       "      <th>3</th>\n",
       "      <td>1.853282</td>\n",
       "      <td>1.083769</td>\n",
       "      <td>2.196975</td>\n",
       "      <td>0</td>\n",
       "    </tr>\n",
       "    <tr>\n",
       "      <th>4</th>\n",
       "      <td>8.116831</td>\n",
       "      <td>1.719410</td>\n",
       "      <td>8.162247</td>\n",
       "      <td>1</td>\n",
       "    </tr>\n",
       "    <tr>\n",
       "      <th>...</th>\n",
       "      <td>...</td>\n",
       "      <td>...</td>\n",
       "      <td>...</td>\n",
       "      <td>...</td>\n",
       "    </tr>\n",
       "    <tr>\n",
       "      <th>9995</th>\n",
       "      <td>6.866050</td>\n",
       "      <td>3.723009</td>\n",
       "      <td>6.374975</td>\n",
       "      <td>1</td>\n",
       "    </tr>\n",
       "    <tr>\n",
       "      <th>9996</th>\n",
       "      <td>0.310384</td>\n",
       "      <td>4.204737</td>\n",
       "      <td>6.196646</td>\n",
       "      <td>0</td>\n",
       "    </tr>\n",
       "    <tr>\n",
       "      <th>9997</th>\n",
       "      <td>5.962235</td>\n",
       "      <td>9.280850</td>\n",
       "      <td>3.853130</td>\n",
       "      <td>1</td>\n",
       "    </tr>\n",
       "    <tr>\n",
       "      <th>9998</th>\n",
       "      <td>3.162848</td>\n",
       "      <td>8.371640</td>\n",
       "      <td>7.288275</td>\n",
       "      <td>1</td>\n",
       "    </tr>\n",
       "    <tr>\n",
       "      <th>9999</th>\n",
       "      <td>7.163179</td>\n",
       "      <td>6.130151</td>\n",
       "      <td>2.635034</td>\n",
       "      <td>1</td>\n",
       "    </tr>\n",
       "  </tbody>\n",
       "</table>\n",
       "<p>10000 rows × 4 columns</p>\n",
       "</div>"
      ],
      "text/plain": [
       "             0         1         2  3\n",
       "0     5.434049  2.783694  4.245176  1\n",
       "1     0.047189  1.215691  6.707491  0\n",
       "2     1.367066  5.750933  8.913220  0\n",
       "3     1.853282  1.083769  2.196975  0\n",
       "4     8.116831  1.719410  8.162247  1\n",
       "...        ...       ...       ... ..\n",
       "9995  6.866050  3.723009  6.374975  1\n",
       "9996  0.310384  4.204737  6.196646  0\n",
       "9997  5.962235  9.280850  3.853130  1\n",
       "9998  3.162848  8.371640  7.288275  1\n",
       "9999  7.163179  6.130151  2.635034  1\n",
       "\n",
       "[10000 rows x 4 columns]"
      ]
     },
     "execution_count": 3,
     "metadata": {},
     "output_type": "execute_result"
    }
   ],
   "source": [
    "# we transform y into a numpy array, transpose it, cimbine it with X and transform the whole into a dataframe\n",
    "df = pd.DataFrame(np.hstack((X,np.array([y]).T)))\n",
    "df = df.astype({3:int}) # this converts the last column which is comprised of ones and zeros into integer values\n",
    "df"
   ]
  },
  {
   "cell_type": "code",
   "execution_count": 4,
   "metadata": {},
   "outputs": [],
   "source": [
    "# write the above dataframe to file without the header and row index\n",
    "df.to_csv(\"SEA Dataset.csv\", index=False, header=False)"
   ]
  },
  {
   "cell_type": "markdown",
   "metadata": {},
   "source": [
    "### SEA with 10% noise"
   ]
  },
  {
   "cell_type": "code",
   "execution_count": 5,
   "metadata": {},
   "outputs": [
    {
     "name": "stdout",
     "output_type": "stream",
     "text": [
      "(10000, 3) (10000,)\n"
     ]
    }
   ],
   "source": [
    "# the same as the previous one, only with 10% noise introduced into the data\n",
    "generator = SEAGenerator(random_state=100, noise_percentage=0.1)\n",
    "X, y = generator.next_sample(10000)\n",
    "print(X.shape, y.shape)"
   ]
  },
  {
   "cell_type": "code",
   "execution_count": 6,
   "metadata": {},
   "outputs": [
    {
     "data": {
      "text/html": [
       "<div>\n",
       "<style scoped>\n",
       "    .dataframe tbody tr th:only-of-type {\n",
       "        vertical-align: middle;\n",
       "    }\n",
       "\n",
       "    .dataframe tbody tr th {\n",
       "        vertical-align: top;\n",
       "    }\n",
       "\n",
       "    .dataframe thead th {\n",
       "        text-align: right;\n",
       "    }\n",
       "</style>\n",
       "<table border=\"1\" class=\"dataframe\">\n",
       "  <thead>\n",
       "    <tr style=\"text-align: right;\">\n",
       "      <th></th>\n",
       "      <th>0</th>\n",
       "      <th>1</th>\n",
       "      <th>2</th>\n",
       "      <th>3</th>\n",
       "    </tr>\n",
       "  </thead>\n",
       "  <tbody>\n",
       "    <tr>\n",
       "      <th>0</th>\n",
       "      <td>5.434049</td>\n",
       "      <td>2.783694</td>\n",
       "      <td>4.245176</td>\n",
       "      <td>1</td>\n",
       "    </tr>\n",
       "    <tr>\n",
       "      <th>1</th>\n",
       "      <td>0.047189</td>\n",
       "      <td>1.215691</td>\n",
       "      <td>6.707491</td>\n",
       "      <td>0</td>\n",
       "    </tr>\n",
       "    <tr>\n",
       "      <th>2</th>\n",
       "      <td>1.367066</td>\n",
       "      <td>5.750933</td>\n",
       "      <td>8.913220</td>\n",
       "      <td>0</td>\n",
       "    </tr>\n",
       "    <tr>\n",
       "      <th>3</th>\n",
       "      <td>1.853282</td>\n",
       "      <td>1.083769</td>\n",
       "      <td>2.196975</td>\n",
       "      <td>0</td>\n",
       "    </tr>\n",
       "    <tr>\n",
       "      <th>4</th>\n",
       "      <td>8.116831</td>\n",
       "      <td>1.719410</td>\n",
       "      <td>8.162247</td>\n",
       "      <td>1</td>\n",
       "    </tr>\n",
       "    <tr>\n",
       "      <th>...</th>\n",
       "      <td>...</td>\n",
       "      <td>...</td>\n",
       "      <td>...</td>\n",
       "      <td>...</td>\n",
       "    </tr>\n",
       "    <tr>\n",
       "      <th>9995</th>\n",
       "      <td>6.866050</td>\n",
       "      <td>3.723009</td>\n",
       "      <td>6.374975</td>\n",
       "      <td>0</td>\n",
       "    </tr>\n",
       "    <tr>\n",
       "      <th>9996</th>\n",
       "      <td>0.310384</td>\n",
       "      <td>4.204737</td>\n",
       "      <td>6.196646</td>\n",
       "      <td>0</td>\n",
       "    </tr>\n",
       "    <tr>\n",
       "      <th>9997</th>\n",
       "      <td>5.962235</td>\n",
       "      <td>9.280850</td>\n",
       "      <td>3.853130</td>\n",
       "      <td>1</td>\n",
       "    </tr>\n",
       "    <tr>\n",
       "      <th>9998</th>\n",
       "      <td>3.162848</td>\n",
       "      <td>8.371640</td>\n",
       "      <td>7.288275</td>\n",
       "      <td>1</td>\n",
       "    </tr>\n",
       "    <tr>\n",
       "      <th>9999</th>\n",
       "      <td>7.163179</td>\n",
       "      <td>6.130151</td>\n",
       "      <td>2.635034</td>\n",
       "      <td>1</td>\n",
       "    </tr>\n",
       "  </tbody>\n",
       "</table>\n",
       "<p>10000 rows × 4 columns</p>\n",
       "</div>"
      ],
      "text/plain": [
       "             0         1         2  3\n",
       "0     5.434049  2.783694  4.245176  1\n",
       "1     0.047189  1.215691  6.707491  0\n",
       "2     1.367066  5.750933  8.913220  0\n",
       "3     1.853282  1.083769  2.196975  0\n",
       "4     8.116831  1.719410  8.162247  1\n",
       "...        ...       ...       ... ..\n",
       "9995  6.866050  3.723009  6.374975  0\n",
       "9996  0.310384  4.204737  6.196646  0\n",
       "9997  5.962235  9.280850  3.853130  1\n",
       "9998  3.162848  8.371640  7.288275  1\n",
       "9999  7.163179  6.130151  2.635034  1\n",
       "\n",
       "[10000 rows x 4 columns]"
      ]
     },
     "execution_count": 6,
     "metadata": {},
     "output_type": "execute_result"
    }
   ],
   "source": [
    "df = pd.DataFrame(np.hstack((X,np.array([y]).T)))\n",
    "df = df.astype({3:int})\n",
    "df"
   ]
  },
  {
   "cell_type": "code",
   "execution_count": 7,
   "metadata": {},
   "outputs": [],
   "source": [
    "df.to_csv(\"SEA Dataset 10.csv\", index=False, header=False)"
   ]
  },
  {
   "cell_type": "markdown",
   "metadata": {},
   "source": [
    "### SEA with 70% noise"
   ]
  },
  {
   "cell_type": "code",
   "execution_count": 8,
   "metadata": {},
   "outputs": [
    {
     "name": "stdout",
     "output_type": "stream",
     "text": [
      "(10000, 3) (10000,)\n"
     ]
    }
   ],
   "source": [
    "# # the same as the previous one, only with 70% noise introduced into the data\n",
    "generator = SEAGenerator(random_state=100, noise_percentage=0.7)\n",
    "X, y = generator.next_sample(10000)\n",
    "print(X.shape, y.shape)"
   ]
  },
  {
   "cell_type": "code",
   "execution_count": 9,
   "metadata": {},
   "outputs": [
    {
     "data": {
      "text/html": [
       "<div>\n",
       "<style scoped>\n",
       "    .dataframe tbody tr th:only-of-type {\n",
       "        vertical-align: middle;\n",
       "    }\n",
       "\n",
       "    .dataframe tbody tr th {\n",
       "        vertical-align: top;\n",
       "    }\n",
       "\n",
       "    .dataframe thead th {\n",
       "        text-align: right;\n",
       "    }\n",
       "</style>\n",
       "<table border=\"1\" class=\"dataframe\">\n",
       "  <thead>\n",
       "    <tr style=\"text-align: right;\">\n",
       "      <th></th>\n",
       "      <th>0</th>\n",
       "      <th>1</th>\n",
       "      <th>2</th>\n",
       "      <th>3</th>\n",
       "    </tr>\n",
       "  </thead>\n",
       "  <tbody>\n",
       "    <tr>\n",
       "      <th>0</th>\n",
       "      <td>5.434049</td>\n",
       "      <td>2.783694</td>\n",
       "      <td>4.245176</td>\n",
       "      <td>1</td>\n",
       "    </tr>\n",
       "    <tr>\n",
       "      <th>1</th>\n",
       "      <td>0.047189</td>\n",
       "      <td>1.215691</td>\n",
       "      <td>6.707491</td>\n",
       "      <td>0</td>\n",
       "    </tr>\n",
       "    <tr>\n",
       "      <th>2</th>\n",
       "      <td>1.367066</td>\n",
       "      <td>5.750933</td>\n",
       "      <td>8.913220</td>\n",
       "      <td>1</td>\n",
       "    </tr>\n",
       "    <tr>\n",
       "      <th>3</th>\n",
       "      <td>1.853282</td>\n",
       "      <td>1.083769</td>\n",
       "      <td>2.196975</td>\n",
       "      <td>0</td>\n",
       "    </tr>\n",
       "    <tr>\n",
       "      <th>4</th>\n",
       "      <td>8.116831</td>\n",
       "      <td>1.719410</td>\n",
       "      <td>8.162247</td>\n",
       "      <td>0</td>\n",
       "    </tr>\n",
       "    <tr>\n",
       "      <th>...</th>\n",
       "      <td>...</td>\n",
       "      <td>...</td>\n",
       "      <td>...</td>\n",
       "      <td>...</td>\n",
       "    </tr>\n",
       "    <tr>\n",
       "      <th>9995</th>\n",
       "      <td>6.866050</td>\n",
       "      <td>3.723009</td>\n",
       "      <td>6.374975</td>\n",
       "      <td>0</td>\n",
       "    </tr>\n",
       "    <tr>\n",
       "      <th>9996</th>\n",
       "      <td>0.310384</td>\n",
       "      <td>4.204737</td>\n",
       "      <td>6.196646</td>\n",
       "      <td>1</td>\n",
       "    </tr>\n",
       "    <tr>\n",
       "      <th>9997</th>\n",
       "      <td>5.962235</td>\n",
       "      <td>9.280850</td>\n",
       "      <td>3.853130</td>\n",
       "      <td>1</td>\n",
       "    </tr>\n",
       "    <tr>\n",
       "      <th>9998</th>\n",
       "      <td>3.162848</td>\n",
       "      <td>8.371640</td>\n",
       "      <td>7.288275</td>\n",
       "      <td>0</td>\n",
       "    </tr>\n",
       "    <tr>\n",
       "      <th>9999</th>\n",
       "      <td>7.163179</td>\n",
       "      <td>6.130151</td>\n",
       "      <td>2.635034</td>\n",
       "      <td>0</td>\n",
       "    </tr>\n",
       "  </tbody>\n",
       "</table>\n",
       "<p>10000 rows × 4 columns</p>\n",
       "</div>"
      ],
      "text/plain": [
       "             0         1         2  3\n",
       "0     5.434049  2.783694  4.245176  1\n",
       "1     0.047189  1.215691  6.707491  0\n",
       "2     1.367066  5.750933  8.913220  1\n",
       "3     1.853282  1.083769  2.196975  0\n",
       "4     8.116831  1.719410  8.162247  0\n",
       "...        ...       ...       ... ..\n",
       "9995  6.866050  3.723009  6.374975  0\n",
       "9996  0.310384  4.204737  6.196646  1\n",
       "9997  5.962235  9.280850  3.853130  1\n",
       "9998  3.162848  8.371640  7.288275  0\n",
       "9999  7.163179  6.130151  2.635034  0\n",
       "\n",
       "[10000 rows x 4 columns]"
      ]
     },
     "execution_count": 9,
     "metadata": {},
     "output_type": "execute_result"
    }
   ],
   "source": [
    "df = pd.DataFrame(np.hstack((X,np.array([y]).T)))\n",
    "df = df.astype({3:int})\n",
    "df"
   ]
  },
  {
   "cell_type": "code",
   "execution_count": 10,
   "metadata": {},
   "outputs": [],
   "source": [
    "df.to_csv(\"SEA Dataset 70.csv\", index=False, header=False)"
   ]
  },
  {
   "cell_type": "markdown",
   "metadata": {},
   "source": [
    "## Training and Evaluation"
   ]
  },
  {
   "cell_type": "code",
   "execution_count": 224,
   "metadata": {},
   "outputs": [],
   "source": [
    "# for showing plots nicely\n",
    "%matplotlib inline \n",
    "%load_ext memory_profiler\n",
    "# to convert a file into a stream\n",
    "from skmultiflow.data import FileStream \n",
    "from skmultiflow.trees import HoeffdingTreeClassifier"
   ]
  },
  {
   "cell_type": "markdown",
   "metadata": {},
   "source": [
    "## HT"
   ]
  },
  {
   "cell_type": "markdown",
   "metadata": {},
   "source": [
    "### HT no noise"
   ]
  },
  {
   "cell_type": "code",
   "execution_count": 230,
   "metadata": {},
   "outputs": [
    {
     "name": "stdout",
     "output_type": "stream",
     "text": [
      "Accuracy: 0.9603960396039604\n",
      "peak memory: 333.12 MiB, increment: 0.00 MiB\n"
     ]
    }
   ],
   "source": [
    "%%memit\n",
    "stream = FileStream(\"./SEA Dataset.csv\") # read the file as a stream\n",
    "ht = HoeffdingTreeClassifier() # initialize the Hoeffding Tree Classifier\n",
    "\n",
    "n_samples = 0 # to keep track of the number of samples processed\n",
    "corrects = 0 # to keep track of the number of correct predictions the classifier has made\n",
    "df_HTNoNoise = pd.DataFrame(columns=['accuracy']) # to keep track of evolution of the prediction accuracy\n",
    "\n",
    "start_with = 1 # number of samples to train before interleaved_test_then_train procedure (a hot start can be done by setting this value to e.g. 200)\n",
    "X, y = stream.next_sample(start_with) # get samples from the stream\n",
    "ht = ht.partial_fit(X, y, classes=[0,1]) # here we first train our model on a set of #start_with samples (here it is 1)\n",
    "prepred = ht.predict(X) # a 1D array of predicted values. the length is equal to start_with\n",
    "n_samples += start_with # this should be equal to start_with because we have already used #start_with samples\n",
    "corrects = (prepred == y).sum() # how many of the first #start_with samples were predicted correctly\n",
    "\n",
    "# this is the interleaved_test_then_train procedure\n",
    "while stream.has_more_samples():\n",
    "    X, y = stream.next_sample() # first get one sample from the stream\n",
    "    pred = ht.predict(X) # predict its class\n",
    "    if y[0] == pred[0]: # if the prediction is correct add one to #corrects\n",
    "        corrects += 1\n",
    "    ht = ht.partial_fit(X, y) # train the model on the current sample\n",
    "    n_samples += 1 # add one to the number of samples processed so far\n",
    "    # after each sample, add the accuracy of the model so far (as the ratio of \n",
    "    # the number of correct predictions so far to the number of sammples processed so far) to a dataframe.\n",
    "    df_HTNoNoise = df_HTNoNoise.append(pd.DataFrame(np.array([[corrects/n_samples]]), columns=['accuracy']), ignore_index=True) \n",
    "\n",
    "print(\"Accuracy: {}\".format(corrects/n_samples)) # the overall accuracy of the model after the training is finished"
   ]
  },
  {
   "cell_type": "markdown",
   "metadata": {},
   "source": [
    "### HT 10% noise"
   ]
  },
  {
   "cell_type": "code",
   "execution_count": 232,
   "metadata": {},
   "outputs": [
    {
     "name": "stdout",
     "output_type": "stream",
     "text": [
      "Accuracy: 0.8683868386838683\n",
      "peak memory: 333.12 MiB, increment: 0.00 MiB\n"
     ]
    }
   ],
   "source": [
    "%%memit\n",
    "stream = FileStream(\"./SEA Dataset 10.csv\")\n",
    "ht = HoeffdingTreeClassifier()\n",
    "n_samples = 0\n",
    "corrects = 0\n",
    "df_HT10Noise = pd.DataFrame(columns=['accuracy'])\n",
    "\n",
    "start_with = 1\n",
    "X, y = stream.next_sample(start_with)\n",
    "ht = ht.partial_fit(X, y, classes=[0,1])\n",
    "prepred = ht.predict(X)\n",
    "n_samples += start_with\n",
    "corrects = (prepred == y).sum()\n",
    "\n",
    "while stream.has_more_samples():\n",
    "    X, y = stream.next_sample()\n",
    "    pred = ht.predict(X)\n",
    "    if y[0] == pred[0]:\n",
    "        corrects += 1\n",
    "    ht = ht.partial_fit(X, y)\n",
    "    n_samples += 1\n",
    "    df_HT10Noise = df_HT10Noise.append(pd.DataFrame(np.array([[corrects/n_samples]]), columns=['accuracy']), ignore_index=True)\n",
    "print(\"Accuracy: {}\".format(corrects/n_samples))"
   ]
  },
  {
   "cell_type": "markdown",
   "metadata": {},
   "source": [
    "### HT 70% noise"
   ]
  },
  {
   "cell_type": "code",
   "execution_count": 234,
   "metadata": {},
   "outputs": [
    {
     "name": "stdout",
     "output_type": "stream",
     "text": [
      "Accuracy: 0.6646664666466646\n",
      "peak memory: 333.13 MiB, increment: 0.00 MiB\n"
     ]
    }
   ],
   "source": [
    "%%memit\n",
    "stream = FileStream(\"./SEA Dataset 70.csv\")\n",
    "ht = HoeffdingTreeClassifier()\n",
    "n_samples = 0\n",
    "corrects = 0\n",
    "df_HT70Noise = pd.DataFrame(columns=['accuracy'])\n",
    "\n",
    "start_with = 1\n",
    "X, y = stream.next_sample(start_with)\n",
    "ht = ht.partial_fit(X, y, classes=[0,1])\n",
    "prepred = ht.predict(X)\n",
    "n_samples += start_with\n",
    "corrects = (prepred == y).sum()\n",
    "\n",
    "while stream.has_more_samples():\n",
    "    X, y = stream.next_sample()\n",
    "    pred = ht.predict(X)\n",
    "    if y[0] == pred[0]:\n",
    "        corrects += 1\n",
    "    ht = ht.partial_fit(X, y)\n",
    "    n_samples += 1\n",
    "    df_HT70Noise = df_HT70Noise.append(pd.DataFrame(np.array([[corrects/n_samples]]), columns=['accuracy']), ignore_index=True)\n",
    "print(\"Accuracy: {}\".format(corrects/n_samples))"
   ]
  },
  {
   "cell_type": "markdown",
   "metadata": {},
   "source": [
    "## KNN"
   ]
  },
  {
   "cell_type": "markdown",
   "metadata": {},
   "source": [
    "### KNN no noise"
   ]
  },
  {
   "cell_type": "code",
   "execution_count": 101,
   "metadata": {},
   "outputs": [],
   "source": [
    "from skmultiflow.lazy import KNNClassifier"
   ]
  },
  {
   "cell_type": "code",
   "execution_count": 236,
   "metadata": {},
   "outputs": [
    {
     "name": "stdout",
     "output_type": "stream",
     "text": [
      "Accuracy: 0.9704970497049705\n",
      "peak memory: 333.14 MiB, increment: 0.00 MiB\n"
     ]
    }
   ],
   "source": [
    "%%memit\n",
    "stream = FileStream(\"./SEA Dataset.csv\")\n",
    "knn = KNNClassifier()\n",
    "n_samples = 0\n",
    "corrects = 0\n",
    "df_KNNNoNoise = pd.DataFrame(columns=['accuracy'])\n",
    "\n",
    "start_with = 1\n",
    "X, y = stream.next_sample(start_with)\n",
    "knn = knn.partial_fit(X, y, classes=[0,1]) \n",
    "prepred = knn.predict(X)\n",
    "n_samples += start_with\n",
    "corrects = (prepred == y).sum()\n",
    "\n",
    "while stream.has_more_samples():\n",
    "    X, y = stream.next_sample()\n",
    "    pred = knn.predict(X)\n",
    "    if y[0] == pred[0]:\n",
    "        corrects += 1\n",
    "    knn = knn.partial_fit(X, y)\n",
    "    n_samples += 1\n",
    "    df_KNNNoNoise = df_KNNNoNoise.append(pd.DataFrame(np.array([[corrects/n_samples]]), columns=['accuracy']), ignore_index=True)\n",
    "print(\"Accuracy: {}\".format(corrects/n_samples))"
   ]
  },
  {
   "cell_type": "markdown",
   "metadata": {},
   "source": [
    "### KNN 10% noise"
   ]
  },
  {
   "cell_type": "code",
   "execution_count": 238,
   "metadata": {},
   "outputs": [
    {
     "name": "stdout",
     "output_type": "stream",
     "text": [
      "Accuracy: 0.8741874187418742\n",
      "peak memory: 333.14 MiB, increment: 0.00 MiB\n"
     ]
    }
   ],
   "source": [
    "%%memit\n",
    "stream = FileStream(\"./SEA Dataset 10.csv\")\n",
    "knn = KNNClassifier()\n",
    "n_samples = 0\n",
    "corrects = 0\n",
    "df_KNN10Noise = pd.DataFrame(columns=['accuracy'])\n",
    "\n",
    "start_with = 1\n",
    "X, y = stream.next_sample(start_with)\n",
    "knn = knn.partial_fit(X, y, classes=[0,1])\n",
    "prepred = knn.predict(X)\n",
    "n_samples += start_with\n",
    "corrects = (prepred == y).sum()\n",
    "\n",
    "while stream.has_more_samples():\n",
    "    X, y = stream.next_sample()\n",
    "    pred = knn.predict(X)\n",
    "    if y[0] == pred[0]:\n",
    "        corrects += 1\n",
    "    knn = knn.partial_fit(X, y)\n",
    "    n_samples += 1\n",
    "    df_KNN10Noise = df_KNN10Noise.append(pd.DataFrame(np.array([[corrects/n_samples]]), columns=['accuracy']), ignore_index=True)\n",
    "print(\"Accuracy: {}\".format(corrects/n_samples))"
   ]
  },
  {
   "cell_type": "markdown",
   "metadata": {},
   "source": [
    "### KNN 70% noise"
   ]
  },
  {
   "cell_type": "code",
   "execution_count": 240,
   "metadata": {},
   "outputs": [
    {
     "name": "stdout",
     "output_type": "stream",
     "text": [
      "Accuracy: 0.6192619261926192\n",
      "peak memory: 333.15 MiB, increment: 0.00 MiB\n"
     ]
    }
   ],
   "source": [
    "%%memit\n",
    "stream = FileStream(\"./SEA Dataset 70.csv\")\n",
    "knn = KNNClassifier()\n",
    "n_samples = 0\n",
    "corrects = 0\n",
    "df_KNN70Noise = pd.DataFrame(columns=['accuracy'])\n",
    "\n",
    "start_with = 1\n",
    "X, y = stream.next_sample(start_with)\n",
    "knn = knn.partial_fit(X, y, classes=[0,1])\n",
    "prepred = knn.predict(X)\n",
    "n_samples += start_with\n",
    "corrects = (prepred == y).sum()\n",
    "\n",
    "while stream.has_more_samples():\n",
    "    X, y = stream.next_sample()\n",
    "    pred = knn.predict(X)\n",
    "    if y[0] == pred[0]:\n",
    "        corrects += 1\n",
    "    knn = knn.partial_fit(X, y)\n",
    "    n_samples += 1\n",
    "    df_KNN70Noise = df_KNN70Noise.append(pd.DataFrame(np.array([[corrects/n_samples]]), columns=['accuracy']), ignore_index=True)\n",
    "print(\"Accuracy: {}\".format(corrects/n_samples))"
   ]
  },
  {
   "cell_type": "markdown",
   "metadata": {},
   "source": [
    "# MLP"
   ]
  },
  {
   "cell_type": "markdown",
   "metadata": {},
   "source": [
    "### MLP no noise"
   ]
  },
  {
   "cell_type": "code",
   "execution_count": 4,
   "metadata": {},
   "outputs": [],
   "source": [
    "from sklearn.neural_network import MLPClassifier"
   ]
  },
  {
   "cell_type": "code",
   "execution_count": 242,
   "metadata": {
    "scrolled": false
   },
   "outputs": [
    {
     "name": "stdout",
     "output_type": "stream",
     "text": [
      "Accuracy: 0.9518951895189519\n",
      "peak memory: 330.88 MiB, increment: 1.51 MiB\n"
     ]
    }
   ],
   "source": [
    "%%memit\n",
    "stream = FileStream(\"./SEA Dataset.csv\")\n",
    "mlp = MLPClassifier (hidden_layer_sizes = (50, 50, 50, 50))\n",
    "n_samples = 0\n",
    "corrects = 0\n",
    "df_MLPNoNoise = pd.DataFrame(columns=['accuracy'])\n",
    "\n",
    "start_with = 1\n",
    "X, y = stream.next_sample(start_with)\n",
    "mlp = mlp.partial_fit(X, y, classes=[0,1]) # MLPClassifier especially requires to be given the classes in the first run\n",
    "prepred = mlp.predict(X)\n",
    "n_samples += start_with\n",
    "corrects = (prepred == y).sum()\n",
    "\n",
    "while stream.has_more_samples():\n",
    "    X, y = stream.next_sample()\n",
    "    pred = mlp.predict(X)\n",
    "    if y[0] == pred[0]:\n",
    "        corrects += 1\n",
    "    mlp = mlp.partial_fit(X, y)\n",
    "    n_samples += 1\n",
    "    df_MLPNoNoise = df_MLPNoNoise.append(pd.DataFrame(np.array([[corrects/n_samples]]), columns=['accuracy']), ignore_index=True)\n",
    "print(\"Accuracy: {}\".format(corrects/n_samples))"
   ]
  },
  {
   "cell_type": "markdown",
   "metadata": {},
   "source": [
    "### MLP 10% noise"
   ]
  },
  {
   "cell_type": "code",
   "execution_count": 244,
   "metadata": {},
   "outputs": [
    {
     "name": "stdout",
     "output_type": "stream",
     "text": [
      "Accuracy: 0.8588858885888588\n",
      "peak memory: 330.07 MiB, increment: 1.24 MiB\n"
     ]
    }
   ],
   "source": [
    "%%memit\n",
    "stream = FileStream(\"./SEA Dataset 10.csv\")\n",
    "mlp = MLPClassifier (hidden_layer_sizes = (50, 50, 50, 50))\n",
    "n_samples = 0\n",
    "corrects = 0\n",
    "df_MLP10Noise = pd.DataFrame(columns=['accuracy'])\n",
    "\n",
    "start_with = 1\n",
    "X, y = stream.next_sample(start_with)\n",
    "mlp = mlp.partial_fit(X, y, classes=[0,1])\n",
    "prepred = mlp.predict(X)\n",
    "n_samples += start_with\n",
    "corrects = (prepred == y).sum()\n",
    "\n",
    "while stream.has_more_samples():\n",
    "    X, y = stream.next_sample()\n",
    "    pred = mlp.predict(X)\n",
    "    if y[0] == pred[0]:\n",
    "        corrects += 1\n",
    "    mlp = mlp.partial_fit(X, y)\n",
    "    n_samples += 1\n",
    "    df_MLP10Noise = df_MLP10Noise.append(pd.DataFrame(np.array([[corrects/n_samples]]), columns=['accuracy']), ignore_index=True)\n",
    "print(\"Accuracy: {}\".format(corrects/n_samples))"
   ]
  },
  {
   "cell_type": "markdown",
   "metadata": {},
   "source": [
    "### MLP 70% noise"
   ]
  },
  {
   "cell_type": "code",
   "execution_count": 268,
   "metadata": {
    "scrolled": false
   },
   "outputs": [
    {
     "name": "stdout",
     "output_type": "stream",
     "text": [
      "Accuracy: 0.6448644864486449\n",
      "peak memory: 333.38 MiB, increment: 1.08 MiB\n"
     ]
    }
   ],
   "source": [
    "%%memit\n",
    "stream = FileStream(\"./SEA Dataset 70.csv\")\n",
    "mlp = MLPClassifier (hidden_layer_sizes = (50, 50, 50, 50))\n",
    "n_samples = 0\n",
    "corrects = 0\n",
    "df_MLP70Noise = pd.DataFrame(columns=['accuracy'])\n",
    "\n",
    "start_with = 1\n",
    "X, y = stream.next_sample(start_with)\n",
    "mlp = mlp.partial_fit(X, y, classes=[0,1])\n",
    "prepred = mlp.predict(X)\n",
    "n_samples += start_with\n",
    "corrects = (prepred == y).sum()\n",
    "\n",
    "while stream.has_more_samples():\n",
    "    X, y = stream.next_sample()\n",
    "    pred = mlp.predict(X)\n",
    "    if y[0] == pred[0]:\n",
    "        corrects += 1\n",
    "    mlp = mlp.partial_fit(X, y)\n",
    "    n_samples += 1\n",
    "    df_MLP70Noise = df_MLP70Noise.append(pd.DataFrame(np.array([[corrects/n_samples]]), columns=['accuracy']), ignore_index=True)\n",
    "print(\"Accuracy: {}\".format(corrects/n_samples))"
   ]
  },
  {
   "cell_type": "markdown",
   "metadata": {},
   "source": [
    "# MV voting based on class label"
   ]
  },
  {
   "cell_type": "markdown",
   "metadata": {},
   "source": [
    "### MV no noise"
   ]
  },
  {
   "cell_type": "code",
   "execution_count": 108,
   "metadata": {},
   "outputs": [],
   "source": [
    "# we define a class for MV and WMV.\n",
    "# the voting is based on class labels and not on class probabilities (this can easily be done we some additional code)\n",
    "class MajorityVotingRuleClassifier:\n",
    "    # the constructer needs an array of classifier objects and an optinal array of weights.\n",
    "    # if weights are not provided, then it is an MV\n",
    "    # if weights are provided and they are not the same, then it is an WMV\n",
    "    def __init__(self, classifiers, weights=None): \n",
    "        self.classifiers = classifiers\n",
    "        self.weights = weights\n",
    "    # this calls the partial_fit function of all the input classifiers\n",
    "    # if classes are provided, they we be pass on to each classifier\n",
    "    def partial_fit(self, X, y, classes=None):\n",
    "        for i in range(len(self.classifiers)):\n",
    "            self.classifiers[i] = self.classifiers[i].partial_fit(X=X, y=y, classes=classes)\n",
    "        return self\n",
    "    # breaking down the below code:\n",
    "    ## map(lambda a: a.predict(X), self.classifiers) -> call the predict function of each classifier on X and store the results in a map object\n",
    "    ## list(map(lambda a: a.predict(X), self.classifiers)) -> we need a list object not a map object\n",
    "    ## zip(*list(map(lambda a: a.predict(X), self.classifiers))) -> we zip these lists together\n",
    "    ## then we take each row of the zipped lists and feed it to np.argmax(np.bincount(...))\n",
    "    ## which basically returns 0 or 1 based on votes and weights\n",
    "    def predict(self, X):\n",
    "        #return [np.argmax(np.bincount(d, weights=self.weights)) for d in zip([clf.predict(X) for clf in self.classifiers])]\n",
    "        return [np.argmax(np.bincount(d, weights=self.weights)) for d in zip(*list(map(lambda a: a.predict(X), self.classifiers)))]\n"
   ]
  },
  {
   "cell_type": "code",
   "execution_count": 248,
   "metadata": {},
   "outputs": [
    {
     "name": "stdout",
     "output_type": "stream",
     "text": [
      "Accuracy: 0.9734973497349735\n",
      "peak memory: 333.73 MiB, increment: 0.00 MiB\n"
     ]
    }
   ],
   "source": [
    "%%memit\n",
    "stream = FileStream(\"./SEA Dataset.csv\")\n",
    "ht = HoeffdingTreeClassifier()\n",
    "knn = KNNClassifier()\n",
    "mlp = MLPClassifier (hidden_layer_sizes = (50, 50, 50, 50))\n",
    "# create an instance of our ensemble classifier with three individual classifiers.\n",
    "# because there no weights are provided, it is an MV classifier.\n",
    "mvc = MajorityVotingRuleClassifier([ht,knn,mlp]) \n",
    "\n",
    "n_samples = 0\n",
    "corrects = 0\n",
    "df_MVNoNoise = pd.DataFrame(columns=['accuracy'])\n",
    "\n",
    "start_with = 1\n",
    "X, y = stream.next_sample(start_with)\n",
    "mvc = mvc.partial_fit(X, y, classes=[0,1])\n",
    "prepred = mvc.predict(X)\n",
    "n_samples += start_with\n",
    "corrects = (prepred == y).sum()\n",
    "\n",
    "while stream.has_more_samples():\n",
    "    X, y = stream.next_sample()\n",
    "    pred = mvc.predict(X)\n",
    "    if y[0] == pred[0]:\n",
    "        corrects += 1\n",
    "    mvc = mvc.partial_fit(X, y)\n",
    "    n_samples += 1\n",
    "    df_MVNoNoise = df_MVNoNoise.append(pd.DataFrame(np.array([[corrects/n_samples]]), columns=['accuracy']), ignore_index=True)\n",
    "\n",
    "print(\"Accuracy: {}\".format(corrects/n_samples))"
   ]
  },
  {
   "cell_type": "markdown",
   "metadata": {},
   "source": [
    "### MV 10% noise"
   ]
  },
  {
   "cell_type": "code",
   "execution_count": 250,
   "metadata": {},
   "outputs": [
    {
     "name": "stdout",
     "output_type": "stream",
     "text": [
      "Accuracy: 0.8806880688068807\n",
      "peak memory: 330.72 MiB, increment: 1.48 MiB\n"
     ]
    }
   ],
   "source": [
    "%%memit\n",
    "stream = FileStream(\"./SEA Dataset 10.csv\")\n",
    "ht = HoeffdingTreeClassifier()\n",
    "knn = KNNClassifier()\n",
    "mlp = MLPClassifier (hidden_layer_sizes = (50, 50, 50, 50))\n",
    "mvc = MajorityVotingRuleClassifier([ht,knn,mlp])\n",
    "\n",
    "n_samples = 0\n",
    "corrects = 0\n",
    "df_MV10Noise = pd.DataFrame(columns=['accuracy'])\n",
    "\n",
    "start_with = 1\n",
    "X, y = stream.next_sample(start_with)\n",
    "mvc = mvc.partial_fit(X, y, classes=[0,1])\n",
    "prepred = mvc.predict(X)\n",
    "n_samples += start_with\n",
    "corrects = (prepred == y).sum()\n",
    "\n",
    "while stream.has_more_samples():\n",
    "    X, y = stream.next_sample()\n",
    "    pred = mvc.predict(X)\n",
    "    if y[0] == pred[0]:\n",
    "        corrects += 1\n",
    "    mvc = mvc.partial_fit(X, y)\n",
    "    n_samples += 1\n",
    "    df_MV10Noise = df_MV10Noise.append(pd.DataFrame(np.array([[corrects/n_samples]]), columns=['accuracy']), ignore_index=True)\n",
    "print(\"Accuracy: {}\".format(corrects/n_samples))"
   ]
  },
  {
   "cell_type": "markdown",
   "metadata": {},
   "source": [
    "### MV 70% noise"
   ]
  },
  {
   "cell_type": "code",
   "execution_count": 252,
   "metadata": {},
   "outputs": [
    {
     "name": "stdout",
     "output_type": "stream",
     "text": [
      "Accuracy: 0.664966496649665\n",
      "peak memory: 330.94 MiB, increment: 0.04 MiB\n"
     ]
    }
   ],
   "source": [
    "%%memit\n",
    "stream = FileStream(\"./SEA Dataset 70.csv\")\n",
    "ht = HoeffdingTreeClassifier()\n",
    "knn = KNNClassifier()\n",
    "mlp = MLPClassifier (hidden_layer_sizes = (50, 50, 50, 50))\n",
    "mvc = MajorityVotingRuleClassifier([ht,knn,mlp])\n",
    "\n",
    "n_samples = 0\n",
    "corrects = 0\n",
    "df_MV70Noise = pd.DataFrame(columns=['accuracy'])\n",
    "\n",
    "start_with = 1\n",
    "X, y = stream.next_sample(start_with)\n",
    "mvc = mvc.partial_fit(X, y, classes=[0,1])\n",
    "prepred = mvc.predict(X)\n",
    "n_samples += start_with\n",
    "corrects = (prepred == y).sum()\n",
    "\n",
    "while stream.has_more_samples():\n",
    "    X, y = stream.next_sample()\n",
    "    pred = mvc.predict(X)\n",
    "    if y[0] == pred[0]:\n",
    "        corrects += 1\n",
    "    mvc = mvc.partial_fit(X, y)\n",
    "    n_samples += 1\n",
    "    df_MV70Noise = df_MV70Noise.append(pd.DataFrame(np.array([[corrects/n_samples]]), columns=['accuracy']), ignore_index=True)\n",
    "print(\"Accuracy: {}\".format(corrects/n_samples))"
   ]
  },
  {
   "cell_type": "markdown",
   "metadata": {},
   "source": [
    "# WMV based on class label"
   ]
  },
  {
   "cell_type": "markdown",
   "metadata": {},
   "source": [
    "### WMV no noise"
   ]
  },
  {
   "cell_type": "code",
   "execution_count": 113,
   "metadata": {
    "scrolled": false
   },
   "outputs": [
    {
     "name": "stdout",
     "output_type": "stream",
     "text": [
      "     w1   w2   w3  accuracy\n",
      "2   1.0  2.0  1.0  0.972297\n",
      "11  2.0  2.0  1.0  0.972397\n",
      "23  3.0  3.0  2.0  0.972497\n",
      "16  3.0  1.0  1.0  0.972597\n",
      "5   1.0  3.0  1.0  0.972797\n",
      "0   1.0  1.0  2.0  0.972897\n",
      "14  2.0  3.0  2.0  0.972897\n",
      "22  3.0  3.0  1.0  0.972997\n",
      "13  2.0  3.0  1.0  0.972997\n",
      "9   2.0  1.0  2.0  0.973097\n",
      "20  3.0  2.0  2.0  0.973097\n",
      "3   1.0  2.0  2.0  0.973097\n",
      "1   1.0  1.0  3.0  0.973197\n",
      "15  2.0  3.0  3.0  0.973197\n",
      "19  3.0  2.0  1.0  0.973197\n",
      "8   2.0  1.0  1.0  0.973197\n",
      "21  3.0  2.0  3.0  0.973297\n",
      "18  3.0  1.0  3.0  0.973497\n",
      "17  3.0  1.0  2.0  0.973597\n",
      "7   1.0  3.0  3.0  0.973797\n",
      "12  2.0  2.0  3.0  0.973897\n",
      "4   1.0  2.0  3.0  0.973997\n",
      "6   1.0  3.0  2.0  0.974297\n",
      "10  2.0  1.0  3.0  0.974497\n"
     ]
    }
   ],
   "source": [
    "overview = pd.DataFrame(columns=('w1', 'w2', 'w3', 'accuracy'))\n",
    "o = 0 # index of rows for overview\n",
    "# here we are searching for best combination of weights between 1 and 4.\n",
    "# this of course can also be done in a much larger range, but it would take longer\n",
    "for w1 in range(1,4): \n",
    "    for w2 in range(1,4):\n",
    "        for w3 in range(1,4):\n",
    "            if len(set((w1,w2,w3))) == 1: # skip if all weights are equal\n",
    "                continue\n",
    "            stream = FileStream(\"./SEA Dataset.csv\")\n",
    "            ht = HoeffdingTreeClassifier()\n",
    "            knn = KNNClassifier()\n",
    "            mlp = MLPClassifier (hidden_layer_sizes = (50, 50, 50, 50))\n",
    "            mvc = MajorityVotingRuleClassifier([ht,knn,mlp])\n",
    "\n",
    "            n_samples = 0\n",
    "            corrects = 0\n",
    "            \n",
    "            start_with = 1\n",
    "            X, y = stream.next_sample(start_with)\n",
    "            mvc = mvc.partial_fit(X, y, classes=[0,1])\n",
    "            prepred = mvc.predict(X)\n",
    "            n_samples += start_with\n",
    "            corrects = (prepred == y).sum()\n",
    "\n",
    "            while stream.has_more_samples():\n",
    "                X, y = stream.next_sample()\n",
    "                pred = mvc.predict(X)\n",
    "                if y[0] == pred[0]:\n",
    "                    corrects += 1\n",
    "                mvc = mvc.partial_fit(X, y)\n",
    "                n_samples += 1\n",
    "                \n",
    "            overview.loc[o] = [w1,w2,w3,corrects/n_samples]\n",
    "            o += 1\n",
    "print(overview.sort_values(by=['accuracy'])) # the last row of the dataframe after sorting is the best choice for weights"
   ]
  },
  {
   "cell_type": "code",
   "execution_count": 254,
   "metadata": {},
   "outputs": [
    {
     "name": "stdout",
     "output_type": "stream",
     "text": [
      "Accuracy: 0.9654965496549655\n",
      "peak memory: 331.08 MiB, increment: 1.46 MiB\n"
     ]
    }
   ],
   "source": [
    "%%memit\n",
    "# WMV with weights w1=2 , w2=1 , w3=3\n",
    "stream = FileStream(\"./SEA Dataset.csv\")\n",
    "ht = HoeffdingTreeClassifier()\n",
    "knn = KNNClassifier()\n",
    "mlp = MLPClassifier (hidden_layer_sizes = (50, 50, 50, 50))\n",
    "mvc = MajorityVotingRuleClassifier([ht,knn,mlp], weights=[2,1,3])\n",
    "\n",
    "n_samples = 0\n",
    "corrects = 0\n",
    "df_WMVNoNoise = pd.DataFrame(columns=['accuracy'])\n",
    "\n",
    "start_with = 1\n",
    "X, y = stream.next_sample(start_with)\n",
    "mvc = mvc.partial_fit(X, y, classes=[0,1])\n",
    "prepred = mvc.predict(X)\n",
    "n_samples += start_with\n",
    "corrects = (prepred == y).sum()\n",
    "\n",
    "while stream.has_more_samples():\n",
    "    X, y = stream.next_sample()\n",
    "    pred = mvc.predict(X)\n",
    "    if y[0] == pred[0]:\n",
    "        corrects += 1\n",
    "    mvc = mvc.partial_fit(X, y)\n",
    "    n_samples += 1\n",
    "    df_WMVNoNoise = df_WMVNoNoise.append(pd.DataFrame(np.array([[corrects/n_samples]]), columns=['accuracy']), ignore_index=True)\n",
    "print(\"Accuracy: {}\".format(corrects/n_samples))"
   ]
  },
  {
   "cell_type": "markdown",
   "metadata": {},
   "source": [
    "### WMV 10% noise"
   ]
  },
  {
   "cell_type": "code",
   "execution_count": 115,
   "metadata": {},
   "outputs": [
    {
     "name": "stdout",
     "output_type": "stream",
     "text": [
      "     w1   w2   w3  accuracy\n",
      "12  2.0  2.0  3.0  0.879088\n",
      "8   2.0  1.0  1.0  0.879088\n",
      "11  2.0  2.0  1.0  0.879388\n",
      "10  2.0  1.0  3.0  0.879388\n",
      "17  3.0  1.0  2.0  0.879688\n",
      "3   1.0  2.0  2.0  0.879788\n",
      "22  3.0  3.0  1.0  0.879888\n",
      "19  3.0  2.0  1.0  0.879988\n",
      "23  3.0  3.0  2.0  0.879988\n",
      "9   2.0  1.0  2.0  0.880088\n",
      "2   1.0  2.0  1.0  0.880088\n",
      "1   1.0  1.0  3.0  0.880388\n",
      "21  3.0  2.0  3.0  0.880388\n",
      "13  2.0  3.0  1.0  0.880488\n",
      "7   1.0  3.0  3.0  0.880488\n",
      "6   1.0  3.0  2.0  0.880588\n",
      "0   1.0  1.0  2.0  0.880588\n",
      "18  3.0  1.0  3.0  0.880788\n",
      "20  3.0  2.0  2.0  0.880788\n",
      "16  3.0  1.0  1.0  0.880888\n",
      "4   1.0  2.0  3.0  0.881188\n",
      "5   1.0  3.0  1.0  0.881388\n",
      "15  2.0  3.0  3.0  0.881388\n",
      "14  2.0  3.0  2.0  0.881588\n"
     ]
    }
   ],
   "source": [
    "overview = pd.DataFrame(columns=('w1', 'w2', 'w3', 'accuracy'))\n",
    "o = 0\n",
    "for w1 in range(1,4):\n",
    "    for w2 in range(1,4):\n",
    "        for w3 in range(1,4):\n",
    "            if len(set((w1,w2,w3))) == 1:\n",
    "                continue\n",
    "            stream = FileStream(\"./SEA Dataset 10.csv\")\n",
    "            ht = HoeffdingTreeClassifier()\n",
    "            knn = KNNClassifier()\n",
    "            mlp = MLPClassifier (hidden_layer_sizes = (50, 50, 50, 50))\n",
    "            mvc = MajorityVotingRuleClassifier([ht,knn,mlp])\n",
    "\n",
    "            n_samples = 0\n",
    "            corrects = 0\n",
    "\n",
    "            start_with = 1\n",
    "            X, y = stream.next_sample(start_with)\n",
    "            mvc = mvc.partial_fit(X, y, classes=[0,1])\n",
    "            prepred = mvc.predict(X)\n",
    "            n_samples += start_with\n",
    "            corrects = (prepred == y).sum()\n",
    "\n",
    "            while stream.has_more_samples():\n",
    "                X, y = stream.next_sample()\n",
    "                pred = mvc.predict(X)\n",
    "                if y[0] == pred[0]:\n",
    "                    corrects += 1\n",
    "                mvc = mvc.partial_fit(X, y)\n",
    "                n_samples += 1\n",
    "            overview.loc[o] = [w1,w2,w3,corrects/n_samples]\n",
    "            o += 1\n",
    "print(overview.sort_values(by=['accuracy']))"
   ]
  },
  {
   "cell_type": "code",
   "execution_count": 256,
   "metadata": {},
   "outputs": [
    {
     "name": "stdout",
     "output_type": "stream",
     "text": [
      "Accuracy: 0.8798879887988799\n",
      "peak memory: 331.15 MiB, increment: 1.48 MiB\n"
     ]
    }
   ],
   "source": [
    "%%memit\n",
    "# WMV with weights w1=2 , w2=3 , w3=2\n",
    "stream = FileStream(\"./SEA Dataset 10.csv\")\n",
    "ht = HoeffdingTreeClassifier()\n",
    "knn = KNNClassifier()\n",
    "mlp = MLPClassifier (hidden_layer_sizes = (50, 50, 50, 50))\n",
    "mvc = MajorityVotingRuleClassifier([ht,knn,mlp], weights=[2,3,2])\n",
    "\n",
    "n_samples = 0\n",
    "corrects = 0\n",
    "df_WMV10Noise = pd.DataFrame(columns=['accuracy'])\n",
    "\n",
    "start_with = 1\n",
    "X, y = stream.next_sample(start_with)\n",
    "mvc = mvc.partial_fit(X, y, classes=[0,1])\n",
    "prepred = mvc.predict(X)\n",
    "n_samples += start_with\n",
    "corrects = (prepred == y).sum()\n",
    "\n",
    "while stream.has_more_samples():\n",
    "    X, y = stream.next_sample()\n",
    "    pred = mvc.predict(X)\n",
    "    if y[0] == pred[0]:\n",
    "        corrects += 1\n",
    "    mvc = mvc.partial_fit(X, y)\n",
    "    n_samples += 1\n",
    "    df_WMV10Noise = df_WMV10Noise.append(pd.DataFrame(np.array([[corrects/n_samples]]), columns=['accuracy']), ignore_index=True)\n",
    "print(\"Accuracy: {}\".format(corrects/n_samples))"
   ]
  },
  {
   "cell_type": "markdown",
   "metadata": {},
   "source": [
    "### WMV 70% noise"
   ]
  },
  {
   "cell_type": "code",
   "execution_count": 117,
   "metadata": {},
   "outputs": [
    {
     "name": "stdout",
     "output_type": "stream",
     "text": [
      "     w1   w2   w3  accuracy\n",
      "3   1.0  2.0  2.0  0.661966\n",
      "7   1.0  3.0  3.0  0.662066\n",
      "16  3.0  1.0  1.0  0.663366\n",
      "20  3.0  2.0  2.0  0.663466\n",
      "5   1.0  3.0  1.0  0.663566\n",
      "14  2.0  3.0  2.0  0.663566\n",
      "21  3.0  2.0  3.0  0.663666\n",
      "17  3.0  1.0  2.0  0.663666\n",
      "9   2.0  1.0  2.0  0.663666\n",
      "11  2.0  2.0  1.0  0.663766\n",
      "1   1.0  1.0  3.0  0.663766\n",
      "13  2.0  3.0  1.0  0.663866\n",
      "15  2.0  3.0  3.0  0.663966\n",
      "0   1.0  1.0  2.0  0.664066\n",
      "19  3.0  2.0  1.0  0.664166\n",
      "22  3.0  3.0  1.0  0.664266\n",
      "4   1.0  2.0  3.0  0.664566\n",
      "2   1.0  2.0  1.0  0.664566\n",
      "18  3.0  1.0  3.0  0.664666\n",
      "23  3.0  3.0  2.0  0.664666\n",
      "10  2.0  1.0  3.0  0.664766\n",
      "12  2.0  2.0  3.0  0.664766\n",
      "8   2.0  1.0  1.0  0.665267\n",
      "6   1.0  3.0  2.0  0.665967\n"
     ]
    }
   ],
   "source": [
    "overview = pd.DataFrame(columns=('w1', 'w2', 'w3', 'accuracy'))\n",
    "o = 0\n",
    "for w1 in range(1,4):\n",
    "    for w2 in range(1,4):\n",
    "        for w3 in range(1,4):\n",
    "            if len(set((w1,w2,w3))) == 1: \n",
    "                continue\n",
    "            stream = FileStream(\"./SEA Dataset 70.csv\")\n",
    "            ht = HoeffdingTreeClassifier()\n",
    "            knn = KNNClassifier()\n",
    "            mlp = MLPClassifier (hidden_layer_sizes = (50, 50, 50, 50))\n",
    "            mvc = MajorityVotingRuleClassifier([ht,knn,mlp])\n",
    "\n",
    "            n_samples = 0\n",
    "            corrects = 0\n",
    "\n",
    "            start_with = 1\n",
    "            X, y = stream.next_sample(start_with)\n",
    "            mvc = mvc.partial_fit(X, y, classes=[0,1])\n",
    "            prepred = mvc.predict(X)\n",
    "            n_samples += start_with\n",
    "            corrects = (prepred == y).sum()\n",
    "\n",
    "            while stream.has_more_samples():\n",
    "                X, y = stream.next_sample()\n",
    "                pred = mvc.predict(X)\n",
    "                if y[0] == pred[0]:\n",
    "                    corrects += 1\n",
    "                mvc = mvc.partial_fit(X, y)\n",
    "                n_samples += 1\n",
    "            overview.loc[o] = [w1,w2,w3,corrects/n_samples]\n",
    "            o += 1\n",
    "print(overview.sort_values(by=['accuracy']))"
   ]
  },
  {
   "cell_type": "code",
   "execution_count": 258,
   "metadata": {},
   "outputs": [
    {
     "name": "stdout",
     "output_type": "stream",
     "text": [
      "Accuracy: 0.6507650765076508\n",
      "peak memory: 331.24 MiB, increment: 1.45 MiB\n"
     ]
    }
   ],
   "source": [
    "%%memit\n",
    "# WMV with weights w1=1 , w2=3 , w3=2\n",
    "stream = FileStream(\"./SEA Dataset 70.csv\")\n",
    "ht = HoeffdingTreeClassifier()\n",
    "knn = KNNClassifier()\n",
    "mlp = MLPClassifier (hidden_layer_sizes = (50, 50, 50, 50))\n",
    "mvc = MajorityVotingRuleClassifier([ht,knn,mlp], weights=[1,3,2])\n",
    "\n",
    "n_samples = 0\n",
    "corrects = 0\n",
    "df_WMV70Noise = pd.DataFrame(columns=['accuracy'])\n",
    "\n",
    "start_with = 1\n",
    "X, y = stream.next_sample(start_with)\n",
    "mvc = mvc.partial_fit(X, y, classes=[0,1])\n",
    "prepred = mvc.predict(X)\n",
    "n_samples += start_with\n",
    "corrects = (prepred == y).sum()\n",
    "\n",
    "while stream.has_more_samples():\n",
    "    X, y = stream.next_sample()\n",
    "    pred = mvc.predict(X)\n",
    "    if y[0] == pred[0]:\n",
    "        corrects += 1\n",
    "    mvc = mvc.partial_fit(X, y)\n",
    "    n_samples += 1\n",
    "    df_WMV70Noise = df_WMV70Noise.append(pd.DataFrame(np.array([[corrects/n_samples]]), columns=['accuracy']), ignore_index=True)\n",
    "print(\"Accuracy: {}\".format(corrects/n_samples))"
   ]
  },
  {
   "cell_type": "markdown",
   "metadata": {},
   "source": [
    "## Comparing model accuracies through time"
   ]
  },
  {
   "cell_type": "code",
   "execution_count": 146,
   "metadata": {},
   "outputs": [],
   "source": [
    "noise_0 = pd.DataFrame({\n",
    "    'ht': df_HTNoNoise['accuracy'],\n",
    "    'knn': df_KNNNoNoise['accuracy'],\n",
    "    'mlp': df_MLPNoNoise['accuracy'],\n",
    "    'mv': df_MVNoNoise['accuracy'],\n",
    "    'wmv': df_WMVNoNoise['accuracy']\n",
    "})"
   ]
  },
  {
   "cell_type": "code",
   "execution_count": 147,
   "metadata": {
    "scrolled": false
   },
   "outputs": [
    {
     "data": {
      "text/plain": [
       "<AxesSubplot:>"
      ]
     },
     "execution_count": 147,
     "metadata": {},
     "output_type": "execute_result"
    },
    {
     "data": {
      "image/png": "[encoded data removed]",
      "text/plain": [
       "<Figure size 1440x576 with 1 Axes>"
      ]
     },
     "metadata": {
      "needs_background": "light"
     },
     "output_type": "display_data"
    }
   ],
   "source": [
    "noise_0.plot.line(figsize=[20,8])"
   ]
  },
  {
   "cell_type": "code",
   "execution_count": 148,
   "metadata": {},
   "outputs": [],
   "source": [
    "noise_10 = pd.DataFrame({\n",
    "    'ht': df_HT10Noise['accuracy'],\n",
    "    'knn': df_KNN10Noise['accuracy'],\n",
    "    'mlp': df_MLP10Noise['accuracy'],\n",
    "    'mv': df_MV10Noise['accuracy'],\n",
    "    'wmv': df_WMV10Noise['accuracy']\n",
    "})"
   ]
  },
  {
   "cell_type": "code",
   "execution_count": 149,
   "metadata": {},
   "outputs": [
    {
     "data": {
      "text/plain": [
       "<AxesSubplot:>"
      ]
     },
     "execution_count": 149,
     "metadata": {},
     "output_type": "execute_result"
    },
    {
     "data": {
      "image/png": "[encoded data removed]",
      "text/plain": [
       "<Figure size 1440x576 with 1 Axes>"
      ]
     },
     "metadata": {
      "needs_background": "light"
     },
     "output_type": "display_data"
    }
   ],
   "source": [
    "noise_10.plot.line(figsize=[20,8])"
   ]
  },
  {
   "cell_type": "code",
   "execution_count": 150,
   "metadata": {},
   "outputs": [],
   "source": [
    "noise_70 = pd.DataFrame({\n",
    "    'ht': df_HT70Noise['accuracy'],\n",
    "    'knn': df_KNN70Noise['accuracy'],\n",
    "    'mlp': df_MLP70Noise['accuracy'],\n",
    "    'mv': df_MV70Noise['accuracy'],\n",
    "    'wmv': df_WMV70Noise['accuracy']\n",
    "})"
   ]
  },
  {
   "cell_type": "code",
   "execution_count": 151,
   "metadata": {},
   "outputs": [
    {
     "data": {
      "text/plain": [
       "<AxesSubplot:>"
      ]
     },
     "execution_count": 151,
     "metadata": {},
     "output_type": "execute_result"
    },
    {
     "data": {
      "image/png": "[encoded data removed]",
      "text/plain": [
       "<Figure size 1440x576 with 1 Axes>"
      ]
     },
     "metadata": {
      "needs_background": "light"
     },
     "output_type": "display_data"
    }
   ],
   "source": [
    "noise_70.plot.line(figsize=[20,8])"
   ]
  },
  {
   "cell_type": "markdown",
   "metadata": {},
   "source": [
    "## Improving"
   ]
  },
  {
   "cell_type": "markdown",
   "metadata": {},
   "source": [
    "### Gaussian noise MLP"
   ]
  },
  {
   "cell_type": "code",
   "execution_count": 261,
   "metadata": {},
   "outputs": [
    {
     "name": "stdout",
     "output_type": "stream",
     "text": [
      "Accuracy: 0.6413641364136413\n"
     ]
    }
   ],
   "source": [
    "stream = FileStream(\"./SEA Dataset 70.csv\")\n",
    "mlp = MLPClassifier(hidden_layer_sizes = (50, 50, 50, 50))\n",
    "n_samples = 0\n",
    "corrects = 0\n",
    "df = pd.DataFrame(columns=['accuracy'])\n",
    "\n",
    "start_with = 1\n",
    "X, y = stream.next_sample(start_with)\n",
    "mlp = mlp.partial_fit(X, y, classes=[0,1])\n",
    "prepred = mlp.predict(X)\n",
    "n_samples += start_with\n",
    "corrects = (prepred == y).sum()\n",
    "\n",
    "while stream.has_more_samples():\n",
    "    X, y = stream.next_sample()\n",
    "    pred = mlp.predict(X)\n",
    "    if y[0] == pred[0]:\n",
    "        corrects += 1\n",
    "    mlp = mlp.partial_fit(X, y)\n",
    "    n_samples += 1\n",
    "    df = df.append(pd.DataFrame(np.array([[corrects/n_samples]]), columns=['accuracy']), ignore_index=True)\n",
    "    # this is the same as all the other MLP scripts, excep that after each partial loop,\n",
    "    # some gaussian noise is added to the sample, and the model is trained again with the noisy sample\n",
    "    noisyX = X + np.random.rand(*X.shape)\n",
    "    mlp = mlp.partial_fit(noisyX, y)\n",
    "print(\"Accuracy: {}\".format(corrects/n_samples))"
   ]
  },
  {
   "cell_type": "code",
   "execution_count": 285,
   "metadata": {},
   "outputs": [],
   "source": [
    "tmp = pd.DataFrame({\n",
    "    'mlp': df_MLP70Noise['accuracy'],\n",
    "    'mlp with gaussian noise': df['accuracy'],\n",
    "})"
   ]
  },
  {
   "cell_type": "code",
   "execution_count": 287,
   "metadata": {
    "scrolled": false
   },
   "outputs": [
    {
     "data": {
      "text/plain": [
       "<AxesSubplot:>"
      ]
     },
     "execution_count": 287,
     "metadata": {},
     "output_type": "execute_result"
    },
    {
     "data": {
      "image/png": "[encoded data removed]",
      "text/plain": [
       "<Figure size 1440x576 with 1 Axes>"
      ]
     },
     "metadata": {
      "needs_background": "light"
     },
     "output_type": "display_data"
    }
   ],
   "source": [
    "tmp.plot.line(figsize=(20,8))"
   ]
  },
  {
   "cell_type": "markdown",
   "metadata": {},
   "source": [
    "reduces overfitting at the beginning (effective only with MLP)"
   ]
  },
  {
   "cell_type": "markdown",
   "metadata": {},
   "source": [
    "## Time profiling"
   ]
  },
  {
   "cell_type": "markdown",
   "metadata": {},
   "source": [
    "### HT \n",
    "#### No noise:\n",
    "4.32 s ± 160 ms per loop (mean ± std. dev. of 7 runs, 1 loop each)\n",
    "#### 10% noise:\n",
    "4.15 s ± 72.9 ms per loop (mean ± std. dev. of 7 runs, 1 loop each)\n",
    "#### 70% noise:\n",
    "4.69 s ± 470 ms per loop (mean ± std. dev. of 7 runs, 1 loop each)\n",
    "\n",
    "=============================================\n",
    "### KNN\n",
    "#### No noise:\n",
    "7.08 s ± 649 ms per loop (mean ± std. dev. of 7 runs, 1 loop each)\n",
    "#### 10% noise:\n",
    "7.25 s ± 732 ms per loop (mean ± std. dev. of 7 runs, 1 loop each)\n",
    "#### 70% noise:\n",
    "6.88 s ± 368 ms per loop (mean ± std. dev. of 7 runs, 1 loop each)\n",
    "\n",
    "=============================================\n",
    "### MLP\n",
    "#### No noise:\n",
    "15.3 s ± 540 ms per loop (mean ± std. dev. of 7 runs, 1 loop each)\n",
    "#### 10% noise:\n",
    "15.7 s ± 744 ms per loop (mean ± std. dev. of 7 runs, 1 loop each)\n",
    "#### 70% noise:\n",
    "15.1 s ± 106 ms per loop (mean ± std. dev. of 7 runs, 1 loop each)\n",
    "\n",
    "=============================================\n",
    "### MV\n",
    "#### No noise:\n",
    "21.2 s ± 221 ms per loop (mean ± std. dev. of 7 runs, 1 loop each)\n",
    "#### 10% noise:\n",
    "21 s ± 215 ms per loop (mean ± std. dev. of 7 runs, 1 loop each)\n",
    "#### 70% noise:\n",
    "21.7 s ± 1.3 s per loop (mean ± std. dev. of 7 runs, 1 loop each)\n",
    "\n",
    "=============================================\n",
    "### WMV\n",
    "#### No noise\n",
    "21.8 s ± 1.11 s per loop (mean ± std. dev. of 7 runs, 1 loop each)\n",
    "#### 10% noise\n",
    "21.1 s ± 259 ms per loop (mean ± std. dev. of 7 runs, 1 loop each)\n",
    "#### 70% noise\n",
    "21.4 s ± 1.08 s per loop (mean ± std. dev. of 7 runs, 1 loop each)"
   ]
  },
  {
   "cell_type": "code",
   "execution_count": 288,
   "metadata": {},
   "outputs": [
    {
     "data": {
      "image/png": "[encoded data removed]",
      "text/plain": [
       "<Figure size 1440x576 with 1 Axes>"
      ]
     },
     "metadata": {
      "needs_background": "light"
     },
     "output_type": "display_data"
    }
   ],
   "source": [
    "import matplotlib.pyplot as plt\n",
    "b1 = [4.32,7.08,15.3,21.2,21.8]\n",
    "b2 = [4.15,7.25,15.7,21,21.1]\n",
    "b3 = [4.69,6.88,15.1,21.7,21.4]\n",
    "c1 = [1.6,6.49,5.4,2.21,0.011]\n",
    "c2 = [0.729,7.32,7.44,2.15,2.59]\n",
    "c3 = [4.7,3.68,1.06,0.013,0.01]\n",
    "labels = ['ht','knn','mlp','mv','wmv']\n",
    "x = np.array([0,2,4,6,8])\n",
    "width = 0.35\n",
    "fig, ax = plt.subplots(figsize=(20,8))\n",
    "rects1 = ax.bar(x - 3*width/2, b1, width, label='No noise')\n",
    "rects2 = ax.bar(x , b2, width, label='10% noise')\n",
    "rects3 = ax.bar(x + 3*width/2, b3, width, label='70% noise')\n",
    "ax.set_ylabel('lapsed time (s)')\n",
    "ax.set_xticks(x)\n",
    "ax.set_xticklabels(labels)\n",
    "ax.legend()\n",
    "errs1 = ax.errorbar(x - 3*width/2, b1, c1, fmt=\"o\", color=\"r\")\n",
    "errs2 = ax.errorbar(x, b2, c2, fmt=\"o\", color=\"r\")\n",
    "errs3 = ax.errorbar(x + 3*width/2, b3, c3, fmt=\"o\", color=\"r\")"
   ]
  },
  {
   "cell_type": "markdown",
   "metadata": {},
   "source": [
    "## Memory profiling"
   ]
  },
  {
   "cell_type": "markdown",
   "metadata": {},
   "source": [
    "### HT \n",
    "#### No noise:\n",
    "peak memory: 333.12 MiB, increment: 0.00 MiB\n",
    "#### 10% noise:\n",
    "peak memory: 333.12 MiB, increment: 0.00 MiB\n",
    "#### 70% noise:\n",
    "peak memory: 333.13 MiB, increment: 0.00 MiB\n",
    "\n",
    "=============================================\n",
    "### KNN\n",
    "#### No noise:\n",
    "peak memory: 333.14 MiB, increment: 0.00 MiB\n",
    "#### 10% noise:\n",
    "peak memory: 333.14 MiB, increment: 0.00 MiB\n",
    "#### 70% noise:\n",
    "peak memory: 333.15 MiB, increment: 0.00 MiB\n",
    "\n",
    "=============================================\n",
    "### MLP\n",
    "#### No noise:\n",
    "peak memory: 330.88 MiB, increment: 1.51 MiB\n",
    "#### 10% noise:\n",
    "peak memory: 330.07 MiB, increment: 1.24 MiB\n",
    "#### 70% noise:\n",
    "peak memory: 330.22 MiB, increment: 1.23 MiB\n",
    "\n",
    "=============================================\n",
    "### MV\n",
    "#### No noise:\n",
    "peak memory: 333.73 MiB, increment: 0.00 MiB\n",
    "#### 10% noise:\n",
    "peak memory: 330.72 MiB, increment: 1.48 MiB\n",
    "#### 70% noise:\n",
    "peak memory: 330.94 MiB, increment: 0.04 MiB\n",
    "\n",
    "=============================================\n",
    "### WMV\n",
    "#### No noise\n",
    "peak memory: 331.08 MiB, increment: 1.46 MiB\n",
    "#### 10% noise\n",
    "peak memory: 331.15 MiB, increment: 1.48 MiB\n",
    "#### 70% noise\n",
    "peak memory: 331.24 MiB, increment: 1.45 MiB"
   ]
  },
  {
   "cell_type": "code",
   "execution_count": 289,
   "metadata": {},
   "outputs": [
    {
     "data": {
      "text/plain": [
       "<matplotlib.legend.Legend at 0x7fb0b27cd3a0>"
      ]
     },
     "execution_count": 289,
     "metadata": {},
     "output_type": "execute_result"
    },
    {
     "data": {
      "image/png": "[encoded data removed]",
      "text/plain": [
       "<Figure size 1440x576 with 1 Axes>"
      ]
     },
     "metadata": {
      "needs_background": "light"
     },
     "output_type": "display_data"
    }
   ],
   "source": [
    "b1 = [3.12,3.14,0.88,3.73,1.08]\n",
    "b2 = [3.12,3.14,0.07,0.72,1.15]\n",
    "b3 = [3.13,3.15,0.22,0.94,1.24]\n",
    "labels = ['ht','knn','mlp','mv','wmv']\n",
    "x = np.array([0,2,4,6,8])\n",
    "width = 0.35\n",
    "fig, ax = plt.subplots(figsize=(20,8))\n",
    "rects1 = ax.bar(x - 3*width/2, b1, width, label='No noise')\n",
    "rects2 = ax.bar(x , b2, width, label='10% noise')\n",
    "rects3 = ax.bar(x + 3*width/2, b3, width, label='70% noise')\n",
    "ax.set_ylabel('peak memory + (330 MiB)')\n",
    "ax.set_xticks(x)\n",
    "ax.set_xticklabels(labels)\n",
    "ax.legend()"
   ]
  },
  {
   "cell_type": "code",
   "execution_count": null,
   "metadata": {},
   "outputs": [],
   "source": []
  }
 ],
 "metadata": {
  "kernelspec": {
   "display_name": "Python 3",
   "language": "python",
   "name": "python3"
  },
  "language_info": {
   "codemirror_mode": {
    "name": "ipython",
    "version": 3
   },
   "file_extension": ".py",
   "mimetype": "text/x-python",
   "name": "python",
   "nbconvert_exporter": "python",
   "pygments_lexer": "ipython3",
   "version": "3.8.8"
  }
 },
 "nbformat": 4,
 "nbformat_minor": 4
}
